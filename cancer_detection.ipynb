{
 "cells": [
  {
   "cell_type": "code",
   "execution_count": 1,
   "id": "adabd6f2",
   "metadata": {
    "execution": {
     "iopub.execute_input": "2024-07-15T11:55:05.127005Z",
     "iopub.status.busy": "2024-07-15T11:55:05.126543Z",
     "iopub.status.idle": "2024-07-15T11:55:09.633708Z",
     "shell.execute_reply": "2024-07-15T11:55:09.632347Z"
    },
    "papermill": {
     "duration": 4.523479,
     "end_time": "2024-07-15T11:55:09.636723",
     "exception": false,
     "start_time": "2024-07-15T11:55:05.113244",
     "status": "completed"
    },
    "tags": []
   },
   "outputs": [],
   "source": [
    "import pandas as pd\n",
    "import numpy as np\n",
    "from sklearn.preprocessing import OneHotEncoder\n",
    "from sklearn.preprocessing import StandardScaler\n",
    "from sklearn.metrics import roc_auc_score\n",
    "from sklearn.model_selection import GroupKFold\n",
    "from lightgbm import LGBMClassifier\n",
    "import os"
   ]
  },
  {
   "cell_type": "markdown",
   "id": "de89f2ef",
   "metadata": {
    "papermill": {
     "duration": 0.011443,
     "end_time": "2024-07-15T11:55:09.659311",
     "exception": false,
     "start_time": "2024-07-15T11:55:09.647868",
     "status": "completed"
    },
    "tags": []
   },
   "source": [
    "## Definition of path and downloading the data\n",
    "As sometimes I run the notebook on kaggle and sometimes on my PC I must change the path."
   ]
  },
  {
   "cell_type": "code",
   "execution_count": 2,
   "id": "6c613a41",
   "metadata": {
    "execution": {
     "iopub.execute_input": "2024-07-15T11:55:09.683024Z",
     "iopub.status.busy": "2024-07-15T11:55:09.682406Z",
     "iopub.status.idle": "2024-07-15T11:55:09.688239Z",
     "shell.execute_reply": "2024-07-15T11:55:09.687169Z"
    },
    "papermill": {
     "duration": 0.020673,
     "end_time": "2024-07-15T11:55:09.690938",
     "exception": false,
     "start_time": "2024-07-15T11:55:09.670265",
     "status": "completed"
    },
    "tags": []
   },
   "outputs": [],
   "source": [
    "#global variables\n",
    "KAGGLE = 1\n",
    "PATH = \"/kaggle/input/\" if KAGGLE ==1 else \"C:/Users/pzlpa_000/\""
   ]
  },
  {
   "cell_type": "code",
   "execution_count": 3,
   "id": "6d684dc5",
   "metadata": {
    "execution": {
     "iopub.execute_input": "2024-07-15T11:55:09.715858Z",
     "iopub.status.busy": "2024-07-15T11:55:09.714422Z",
     "iopub.status.idle": "2024-07-15T11:55:19.599707Z",
     "shell.execute_reply": "2024-07-15T11:55:19.598128Z"
    },
    "papermill": {
     "duration": 9.900886,
     "end_time": "2024-07-15T11:55:19.602631",
     "exception": false,
     "start_time": "2024-07-15T11:55:09.701745",
     "status": "completed"
    },
    "tags": []
   },
   "outputs": [
    {
     "name": "stderr",
     "output_type": "stream",
     "text": [
      "/tmp/ipykernel_18/3060065471.py:1: DtypeWarning: Columns (51,52) have mixed types. Specify dtype option on import or set low_memory=False.\n",
      "  df_train = pd.read_csv( os.path.join(PATH,\"isic-2024-challenge/train-metadata.csv\"))\n"
     ]
    }
   ],
   "source": [
    "df_train = pd.read_csv( os.path.join(PATH,\"isic-2024-challenge/train-metadata.csv\"))\n",
    "df_test = pd.read_csv( os.path.join(PATH,\"isic-2024-challenge/test-metadata.csv\"))"
   ]
  },
  {
   "cell_type": "code",
   "execution_count": 4,
   "id": "87c889a4",
   "metadata": {
    "execution": {
     "iopub.execute_input": "2024-07-15T11:55:19.627491Z",
     "iopub.status.busy": "2024-07-15T11:55:19.626438Z",
     "iopub.status.idle": "2024-07-15T11:55:19.646205Z",
     "shell.execute_reply": "2024-07-15T11:55:19.644877Z"
    },
    "papermill": {
     "duration": 0.035075,
     "end_time": "2024-07-15T11:55:19.648804",
     "exception": false,
     "start_time": "2024-07-15T11:55:19.613729",
     "status": "completed"
    },
    "tags": []
   },
   "outputs": [
    {
     "data": {
      "text/plain": [
       "isic_id                          object\n",
       "target                            int64\n",
       "patient_id                       object\n",
       "age_approx                      float64\n",
       "sex                              object\n",
       "anatom_site_general              object\n",
       "clin_size_long_diam_mm          float64\n",
       "image_type                       object\n",
       "tbp_tile_type                    object\n",
       "tbp_lv_A                        float64\n",
       "tbp_lv_Aext                     float64\n",
       "tbp_lv_B                        float64\n",
       "tbp_lv_Bext                     float64\n",
       "tbp_lv_C                        float64\n",
       "tbp_lv_Cext                     float64\n",
       "tbp_lv_H                        float64\n",
       "tbp_lv_Hext                     float64\n",
       "tbp_lv_L                        float64\n",
       "tbp_lv_Lext                     float64\n",
       "tbp_lv_areaMM2                  float64\n",
       "tbp_lv_area_perim_ratio         float64\n",
       "tbp_lv_color_std_mean           float64\n",
       "tbp_lv_deltaA                   float64\n",
       "tbp_lv_deltaB                   float64\n",
       "tbp_lv_deltaL                   float64\n",
       "tbp_lv_deltaLB                  float64\n",
       "tbp_lv_deltaLBnorm              float64\n",
       "tbp_lv_eccentricity             float64\n",
       "tbp_lv_location                  object\n",
       "tbp_lv_location_simple           object\n",
       "tbp_lv_minorAxisMM              float64\n",
       "tbp_lv_nevi_confidence          float64\n",
       "tbp_lv_norm_border              float64\n",
       "tbp_lv_norm_color               float64\n",
       "tbp_lv_perimeterMM              float64\n",
       "tbp_lv_radial_color_std_max     float64\n",
       "tbp_lv_stdL                     float64\n",
       "tbp_lv_stdLExt                  float64\n",
       "tbp_lv_symm_2axis               float64\n",
       "tbp_lv_symm_2axis_angle           int64\n",
       "tbp_lv_x                        float64\n",
       "tbp_lv_y                        float64\n",
       "tbp_lv_z                        float64\n",
       "attribution                      object\n",
       "copyright_license                object\n",
       "lesion_id                        object\n",
       "iddx_full                        object\n",
       "iddx_1                           object\n",
       "iddx_2                           object\n",
       "iddx_3                           object\n",
       "iddx_4                           object\n",
       "iddx_5                           object\n",
       "mel_mitotic_index                object\n",
       "mel_thick_mm                    float64\n",
       "tbp_lv_dnn_lesion_confidence    float64\n",
       "dtype: object"
      ]
     },
     "execution_count": 4,
     "metadata": {},
     "output_type": "execute_result"
    }
   ],
   "source": [
    "df_train.dtypes"
   ]
  },
  {
   "cell_type": "code",
   "execution_count": 5,
   "id": "66711c27",
   "metadata": {
    "execution": {
     "iopub.execute_input": "2024-07-15T11:55:19.673543Z",
     "iopub.status.busy": "2024-07-15T11:55:19.673107Z",
     "iopub.status.idle": "2024-07-15T11:55:19.678409Z",
     "shell.execute_reply": "2024-07-15T11:55:19.677208Z"
    },
    "papermill": {
     "duration": 0.021266,
     "end_time": "2024-07-15T11:55:19.681176",
     "exception": false,
     "start_time": "2024-07-15T11:55:19.659910",
     "status": "completed"
    },
    "tags": []
   },
   "outputs": [],
   "source": [
    "# for checking\n",
    "#df_test=df_train[200000:]\n",
    "#df_train=df_train[:200000]"
   ]
  },
  {
   "cell_type": "markdown",
   "id": "c962d48d",
   "metadata": {
    "papermill": {
     "duration": 0.010721,
     "end_time": "2024-07-15T11:55:19.703055",
     "exception": false,
     "start_time": "2024-07-15T11:55:19.692334",
     "status": "completed"
    },
    "tags": []
   },
   "source": [
    "## Explonatory DF\n",
    "I create a df with columns description to consult it if necessary inside the notebook."
   ]
  },
  {
   "cell_type": "code",
   "execution_count": 6,
   "id": "f2a29417",
   "metadata": {
    "execution": {
     "iopub.execute_input": "2024-07-15T11:55:19.728951Z",
     "iopub.status.busy": "2024-07-15T11:55:19.728501Z",
     "iopub.status.idle": "2024-07-15T11:55:19.746382Z",
     "shell.execute_reply": "2024-07-15T11:55:19.744775Z"
    },
    "papermill": {
     "duration": 0.034435,
     "end_time": "2024-07-15T11:55:19.749218",
     "exception": false,
     "start_time": "2024-07-15T11:55:19.714783",
     "status": "completed"
    },
    "tags": []
   },
   "outputs": [],
   "source": [
    "data = {\n",
    "    \"field_name\": [\n",
    "        \"target\", \"lesion_id\", \"iddx_full\", \"iddx_1\", \"iddx_2\", \"iddx_3\", \"iddx_4\", \"iddx_5\", \n",
    "        \"mel_mitotic_index\", \"mel_thick_mm\", \"tbp_lv_dnn_lesion_confidence\", \n",
    "        \"isic_id\", \"patient_id\", \"age_approx\", \"sex\", \"anatom_site_general\", \n",
    "        \"clin_size_long_diam_mm\", \"image_type\", \"tbp_tile_type\", \"tbp_lv_A\", \"tbp_lv_Aext\", \n",
    "        \"tbp_lv_B\", \"tbp_lv_Bext\", \"tbp_lv_C\", \"tbp_lv_Cext\", \"tbp_lv_H\", \"tbp_lv_Hext\", \n",
    "        \"tbp_lv_L\", \"tbp_lv_Lext\", \"tbp_lv_areaMM2\", \"tbp_lv_area_perim_ratio\", \n",
    "        \"tbp_lv_color_std_mean\", \"tbp_lv_deltaA\", \"tbp_lv_deltaB\", \"tbp_lv_deltaL\", \n",
    "        \"tbp_lv_deltaLBnorm\", \"tbp_lv_eccentricity\", \"tbp_lv_location\", \n",
    "        \"tbp_lv_location_simple\", \"tbp_lv_minorAxisMM\", \"tbp_lv_nevi_confidence\", \n",
    "        \"tbp_lv_norm_border\", \"tbp_lv_norm_color\", \"tbp_lv_perimeterMM\", \n",
    "        \"tbp_lv_radial_color_std_max\", \"tbp_lv_stdL\", \"tbp_lv_stdLExt\", \n",
    "        \"tbp_lv_symm_2axis\", \"tbp_lv_symm_2axis_angle\", \"tbp_lv_x\", \"tbp_lv_y\", \"tbp_lv_z\", \n",
    "        \"attribution\", \"copyright_license\"\n",
    "    ],\n",
    "    \"description\": [\n",
    "        \"Binary class {0: benign, 1: malignant}.\", \n",
    "        \"Unique lesion identifier. Present in lesions that were manually tagged as a lesion of interest.\", \n",
    "        \"Fully classified lesion diagnosis.\", \n",
    "        \"First level lesion diagnosis.\", \n",
    "        \"Second level lesion diagnosis.\", \n",
    "        \"Third level lesion diagnosis.\", \n",
    "        \"Fourth level lesion diagnosis.\", \n",
    "        \"Fifth level lesion diagnosis.\", \n",
    "        \"Mitotic index of invasive malignant melanomas.\", \n",
    "        \"Thickness in depth of melanoma invasion.\", \n",
    "        \"Lesion confidence score (0-100 scale).\", \n",
    "        \"Unique case identifier.\", \n",
    "        \"Unique patient identifier.\", \n",
    "        \"Approximate age of patient at time of imaging.\", \n",
    "        \"Sex of the person.\", \n",
    "        \"Location of the lesion on the patient's body.\", \n",
    "        \"Maximum diameter of the lesion (mm).\", \n",
    "        \"Structured field of the ISIC Archive for image type.\", \n",
    "        \"Lighting modality of the 3D TBP source image.\", \n",
    "        \"A inside lesion.\", \n",
    "        \"A outside lesion.\", \n",
    "        \"B inside lesion.\", \n",
    "        \"B outside lesion.\", \n",
    "        \"Chroma inside lesion.\", \n",
    "        \"Chroma outside lesion.\", \n",
    "        \"Hue inside the lesion; calculated as the angle of A* and B* in LAB* color space. Typical values range from 25 (red) to 75 (brown).\", \n",
    "        \"Hue outside lesion.\", \n",
    "        \"L inside lesion.\", \n",
    "        \"L outside lesion.\", \n",
    "        \"Area of lesion (mm^2).\", \n",
    "        \"Border jaggedness, the ratio between lesions perimeter and area. Circular lesions will have low values; irregular shaped lesions will have higher values. Values range 0-10.\", \n",
    "        \"Color irregularity, calculated as the variance of colors within the lesion's boundary.\", \n",
    "        \"Average A contrast (inside vs. outside lesion).\", \n",
    "        \"Average B contrast (inside vs. outside lesion).\", \n",
    "        \"Average L contrast (inside vs. outside lesion).\", \n",
    "        \"Contrast between the lesion and its immediate surrounding skin. Low contrast lesions tend to be faintly visible such as freckles; high contrast lesions tend to be those with darker pigment. Calculated as the average delta LB of the lesion relative to its immediate background in LAB* color space. Typical values range from 5.5 to 25.\", \n",
    "        \"Eccentricity.\", \n",
    "        \"Classification of anatomical location, divides arms & legs to upper & lower; torso into thirds.\", \n",
    "        \"Classification of anatomical location, simple.\", \n",
    "        \"Smallest lesion diameter (mm).\", \n",
    "        \"Nevus confidence score (0-100 scale) is a convolutional neural network classifier estimated probability that the lesion is a nevus. The neural network was trained on approximately 57,000 lesions that were classified and labeled by a dermatologist.\", \n",
    "        \"Border irregularity (0-10 scale); the normalized average of border jaggedness and asymmetry.\", \n",
    "        \"Color variation (0-10 scale); the normalized average of color asymmetry and color irregularity.\", \n",
    "        \"Perimeter of lesion (mm).\", \n",
    "        \"Color asymmetry, a measure of asymmetry of the spatial distribution of color within the lesion. This score is calculated by looking at the average standard deviation in LAB* color space within concentric rings originating from the lesion center. Values range 0-10.\", \n",
    "        \"Standard deviation of L inside lesion.\", \n",
    "        \"Standard deviation of L outside lesion.\", \n",
    "        \"Border asymmetry; a measure of asymmetry of the lesion's contour about an axis perpendicular to the lesion's most symmetric axis. Lesions with two axes of symmetry will therefore have low scores (more symmetric), while lesions with only one or zero axes of symmetry will have higher scores (less symmetric). This score is calculated by comparing opposite halves of the lesion contour over many degrees of rotation. The angle where the halves are most similar identifies the principal axis of symmetry, while the second axis of symmetry is perpendicular to the principal axis. Border asymmetry is reported as the asymmetry value about this second axis. Values range 0-10.\", \n",
    "        \"Lesion border asymmetry angle.\", \n",
    "        \"X-coordinate of the lesion on 3D TBP.\", \n",
    "        \"Y-coordinate of the lesion on 3D TBP.\", \n",
    "        \"Z-coordinate of the lesion on 3D TBP.\", \n",
    "        \"Image attribution, synonymous with image source.\", \n",
    "        \"Copyright license.\"\n",
    "    ],\n",
    "    \"train_only\": [\n",
    "        True, True, True, True, True, True, True, True, True, True, True,\n",
    "        False, False, False, False, False, False, False, False, False, False,\n",
    "        False, False, False, False, False, False, False, False, False, False,\n",
    "        False, False, False, False, False, False, False, False, False, False,\n",
    "        False, False, False, False, False, False, False, False, False, False,\n",
    "        False, False, False\n",
    "    ]\n",
    "}\n",
    "\n",
    "df_explained = pd.DataFrame(data)\n"
   ]
  },
  {
   "cell_type": "code",
   "execution_count": 7,
   "id": "363a84b3",
   "metadata": {
    "execution": {
     "iopub.execute_input": "2024-07-15T11:55:19.774400Z",
     "iopub.status.busy": "2024-07-15T11:55:19.774025Z",
     "iopub.status.idle": "2024-07-15T11:55:19.783437Z",
     "shell.execute_reply": "2024-07-15T11:55:19.782058Z"
    },
    "papermill": {
     "duration": 0.02578,
     "end_time": "2024-07-15T11:55:19.786077",
     "exception": false,
     "start_time": "2024-07-15T11:55:19.760297",
     "status": "completed"
    },
    "tags": []
   },
   "outputs": [
    {
     "name": "stdout",
     "output_type": "stream",
     "text": [
      "31    Color irregularity, calculated as the variance of colors within the lesion's boundary.\n",
      "Name: description, dtype: object\n"
     ]
    }
   ],
   "source": [
    "pd.set_option('display.max_colwidth', None)\n",
    "print(df_explained['description'][df_explained['field_name']==\"tbp_lv_color_std_mean\"])"
   ]
  },
  {
   "cell_type": "code",
   "execution_count": 8,
   "id": "ee4e66e8",
   "metadata": {
    "execution": {
     "iopub.execute_input": "2024-07-15T11:55:19.812140Z",
     "iopub.status.busy": "2024-07-15T11:55:19.811738Z",
     "iopub.status.idle": "2024-07-15T11:55:19.820474Z",
     "shell.execute_reply": "2024-07-15T11:55:19.819188Z"
    },
    "papermill": {
     "duration": 0.02542,
     "end_time": "2024-07-15T11:55:19.823172",
     "exception": false,
     "start_time": "2024-07-15T11:55:19.797752",
     "status": "completed"
    },
    "tags": []
   },
   "outputs": [],
   "source": [
    "#creating a variable with columns that appear both in test and train\n",
    "test_and_target=[\"target\", \n",
    "        \"isic_id\", \"patient_id\", \"age_approx\", \"sex\", \"anatom_site_general\", \n",
    "        \"clin_size_long_diam_mm\", \"image_type\", \"tbp_tile_type\", \"tbp_lv_A\", \"tbp_lv_Aext\", \n",
    "        \"tbp_lv_B\", \"tbp_lv_Bext\", \"tbp_lv_C\", \"tbp_lv_Cext\", \"tbp_lv_H\", \"tbp_lv_Hext\", \n",
    "        \"tbp_lv_L\", \"tbp_lv_Lext\", \"tbp_lv_areaMM2\", \"tbp_lv_area_perim_ratio\", \n",
    "        \"tbp_lv_color_std_mean\", \"tbp_lv_deltaA\", \"tbp_lv_deltaB\", \"tbp_lv_deltaL\", \n",
    "        \"tbp_lv_deltaLBnorm\", \"tbp_lv_eccentricity\", \"tbp_lv_location\", \n",
    "        \"tbp_lv_location_simple\", \"tbp_lv_minorAxisMM\", \"tbp_lv_nevi_confidence\", \n",
    "        \"tbp_lv_norm_border\", \"tbp_lv_norm_color\", \"tbp_lv_perimeterMM\", \n",
    "        \"tbp_lv_radial_color_std_max\", \"tbp_lv_stdL\", \"tbp_lv_stdLExt\", \n",
    "        \"tbp_lv_symm_2axis\", \"tbp_lv_symm_2axis_angle\", \"tbp_lv_x\", \"tbp_lv_y\", \"tbp_lv_z\", \n",
    "        \"attribution\", \"copyright_license\"\n",
    "    ]"
   ]
  },
  {
   "cell_type": "code",
   "execution_count": 9,
   "id": "5f9a41db",
   "metadata": {
    "execution": {
     "iopub.execute_input": "2024-07-15T11:55:19.848717Z",
     "iopub.status.busy": "2024-07-15T11:55:19.847534Z",
     "iopub.status.idle": "2024-07-15T11:55:20.023238Z",
     "shell.execute_reply": "2024-07-15T11:55:20.021714Z"
    },
    "papermill": {
     "duration": 0.191628,
     "end_time": "2024-07-15T11:55:20.026539",
     "exception": false,
     "start_time": "2024-07-15T11:55:19.834911",
     "status": "completed"
    },
    "tags": []
   },
   "outputs": [],
   "source": [
    "#creating a df with columns that appear both in train and test\n",
    "df_train_filtered=df_train[test_and_target]\n",
    "categorical_columns = df_train_filtered.select_dtypes(include=['object', 'category']).columns\n",
    "numerical_columns = df_train_filtered.select_dtypes(include=['number']).columns"
   ]
  },
  {
   "cell_type": "markdown",
   "id": "4a0e9c19",
   "metadata": {
    "papermill": {
     "duration": 0.011234,
     "end_time": "2024-07-15T11:55:20.050127",
     "exception": false,
     "start_time": "2024-07-15T11:55:20.038893",
     "status": "completed"
    },
    "tags": []
   },
   "source": [
    "## EDA\n"
   ]
  },
  {
   "cell_type": "code",
   "execution_count": 10,
   "id": "f7c3b138",
   "metadata": {
    "execution": {
     "iopub.execute_input": "2024-07-15T11:55:20.074914Z",
     "iopub.status.busy": "2024-07-15T11:55:20.074451Z",
     "iopub.status.idle": "2024-07-15T11:55:20.834301Z",
     "shell.execute_reply": "2024-07-15T11:55:20.833138Z"
    },
    "papermill": {
     "duration": 0.775332,
     "end_time": "2024-07-15T11:55:20.837135",
     "exception": false,
     "start_time": "2024-07-15T11:55:20.061803",
     "status": "completed"
    },
    "tags": []
   },
   "outputs": [
    {
     "name": "stdout",
     "output_type": "stream",
     "text": [
      "Index(['target', 'tbp_lv_color_std_mean', 'tbp_lv_nevi_confidence',\n",
      "       'tbp_lv_norm_color', 'tbp_lv_radial_color_std_max',\n",
      "       'tbp_lv_symm_2axis_angle'],\n",
      "      dtype='object')\n",
      "Number of 0 in each column that has at least one 0:target                         400666\n",
      "tbp_lv_color_std_mean           26187\n",
      "tbp_lv_nevi_confidence              6\n",
      "tbp_lv_norm_color               26182\n",
      "tbp_lv_radial_color_std_max     29733\n",
      "tbp_lv_symm_2axis_angle         18562\n",
      "dtype: int64\n"
     ]
    }
   ],
   "source": [
    "# checking columns with zero values as they can be really null values\n",
    "def value_counts (df, value):\n",
    "    value_columns = df.columns[(df == value).any()]\n",
    "    print(value_columns)\n",
    "\n",
    "    # Count number of 0s in each column that has at least one 0\n",
    "    value_counts = df[value_columns].eq(0).sum()\n",
    "\n",
    "    # Print the number of 0s in each relevant column\n",
    "    print(f\"Number of {value} in each column that has at least one {value}:{value_counts}\")\n",
    "\n",
    "value_counts(df_train_filtered,0)\n",
    " "
   ]
  },
  {
   "cell_type": "code",
   "execution_count": 11,
   "id": "639ba9e8",
   "metadata": {
    "execution": {
     "iopub.execute_input": "2024-07-15T11:55:20.862942Z",
     "iopub.status.busy": "2024-07-15T11:55:20.862234Z",
     "iopub.status.idle": "2024-07-15T11:55:21.808244Z",
     "shell.execute_reply": "2024-07-15T11:55:21.806666Z"
    },
    "papermill": {
     "duration": 0.962093,
     "end_time": "2024-07-15T11:55:21.811146",
     "exception": false,
     "start_time": "2024-07-15T11:55:20.849053",
     "status": "completed"
    },
    "tags": []
   },
   "outputs": [
    {
     "name": "stdout",
     "output_type": "stream",
     "text": [
      "        target  age_approx  clin_size_long_diam_mm   tbp_lv_A  tbp_lv_Aext  \\\n",
      "target                                                                       \n",
      "0          0.0   58.009694                3.929043  19.971528    14.916682   \n",
      "1          1.0   61.371795                5.749771  22.500924    17.534401   \n",
      "\n",
      "         tbp_lv_B  tbp_lv_Bext   tbp_lv_C  tbp_lv_Cext   tbp_lv_H  ...  \\\n",
      "target                                                             ...   \n",
      "0       28.286065    26.914940  34.788027    30.921401  54.661450  ...   \n",
      "1       23.837896    24.950406  33.067349    30.796881  46.741528  ...   \n",
      "\n",
      "        tbp_lv_norm_color  tbp_lv_perimeterMM  tbp_lv_radial_color_std_max  \\\n",
      "target                                                                       \n",
      "0                3.090164           11.872182                     1.015873   \n",
      "1                4.545228           18.718538                     1.613218   \n",
      "\n",
      "        tbp_lv_stdL  tbp_lv_stdLExt  tbp_lv_symm_2axis  \\\n",
      "target                                                   \n",
      "0          2.714500        2.238095           0.306813   \n",
      "1          3.418305        2.758215           0.317134   \n",
      "\n",
      "        tbp_lv_symm_2axis_angle   tbp_lv_x     tbp_lv_y   tbp_lv_z  \n",
      "target                                                              \n",
      "0                     86.330647  -3.075480  1039.470821  55.845144  \n",
      "1                     87.786260 -19.793436  1169.483517  33.644145  \n",
      "\n",
      "[2 rows x 34 columns]\n",
      "isic_id: 401059 different values\n",
      "patient_id: 1042 different values\n",
      "sex: 2 different values : ['male' 'female' nan]\n",
      "anatom_site_general: 5 different values : ['lower extremity' 'head/neck' 'posterior torso' 'anterior torso'\n",
      " 'upper extremity' nan]\n",
      "image_type: 1 different values : ['TBP tile: close-up']\n",
      "tbp_tile_type: 2 different values : ['3D: white' '3D: XP']\n",
      "tbp_lv_location: 21 different values : ['Right Leg - Upper' 'Head & Neck' 'Torso Back Top Third'\n",
      " 'Torso Front Top Half' 'Right Arm - Upper' 'Left Leg - Upper'\n",
      " 'Torso Front Bottom Half' 'Left Arm - Upper' 'Right Leg'\n",
      " 'Torso Back Middle Third' 'Right Arm - Lower' 'Right Leg - Lower'\n",
      " 'Left Leg - Lower' 'Left Arm - Lower' 'Unknown' 'Left Leg'\n",
      " 'Torso Back Bottom Third' 'Left Arm' 'Right Arm' 'Torso Front'\n",
      " 'Torso Back']\n",
      "tbp_lv_location_simple: 8 different values : ['Right Leg' 'Head & Neck' 'Torso Back' 'Torso Front' 'Right Arm'\n",
      " 'Left Leg' 'Left Arm' 'Unknown']\n",
      "attribution: 7 different values : ['Memorial Sloan Kettering Cancer Center' 'ACEMID MIA'\n",
      " 'Department of Dermatology, Hospital Clínic de Barcelona'\n",
      " 'University Hospital of Basel'\n",
      " 'Frazer Institute, The University of Queensland, Dermatology Research Centre'\n",
      " 'Department of Dermatology, University of Athens, Andreas Syggros Hospital of Skin and Venereal Diseases, Alexander Stratigos, Konstantinos Liopyris'\n",
      " 'ViDIR Group, Department of Dermatology, Medical University of Vienna']\n",
      "copyright_license: 3 different values : ['CC-BY' 'CC-0' 'CC-BY-NC']\n"
     ]
    }
   ],
   "source": [
    "# Calculate mean for numerical columns grouped by 'target'\n",
    "means_by_target = df_train_filtered[numerical_columns].groupby(df_train_filtered['target']).mean()\n",
    "print(means_by_target)\n",
    "\n",
    "# Check the number of different values in cat columns to see which cat columns can be useful\n",
    "for c in categorical_columns:\n",
    "    num_dif = df_train_filtered[c].nunique()\n",
    "    if num_dif < 30:\n",
    "        print (f'{c}: {num_dif} different values : {df_train_filtered[c].unique()}')\n",
    "    else:\n",
    "        print (f'{c}: {num_dif} different values')             \n",
    "    "
   ]
  },
  {
   "cell_type": "code",
   "execution_count": 12,
   "id": "7108a94c",
   "metadata": {
    "execution": {
     "iopub.execute_input": "2024-07-15T11:55:21.837219Z",
     "iopub.status.busy": "2024-07-15T11:55:21.836831Z",
     "iopub.status.idle": "2024-07-15T11:55:21.952316Z",
     "shell.execute_reply": "2024-07-15T11:55:21.950420Z"
    },
    "papermill": {
     "duration": 0.132027,
     "end_time": "2024-07-15T11:55:21.955283",
     "exception": false,
     "start_time": "2024-07-15T11:55:21.823256",
     "status": "completed"
    },
    "tags": []
   },
   "outputs": [
    {
     "name": "stdout",
     "output_type": "stream",
     "text": [
      "target                    0    1  percentage_1\n",
      "anatom_site_general                           \n",
      "anterior torso        87688   82      0.093426\n",
      "head/neck             11968   78      0.647518\n",
      "lower extremity      102955   73      0.070855\n",
      "posterior torso      121799  103      0.084494\n",
      "upper extremity       70500   57      0.080786\n"
     ]
    }
   ],
   "source": [
    "# Check distribution of one cat variable for target 0 and 1\n",
    "place_by_target = df_train_filtered.groupby(['anatom_site_general', 'target']).size().unstack(fill_value=0)\n",
    "place_totals = place_by_target.sum(axis=1)\n",
    "place_by_target['percentage_1'] = (place_by_target[1] / place_totals) * 100\n",
    "print(place_by_target)"
   ]
  },
  {
   "cell_type": "markdown",
   "id": "e11f506e",
   "metadata": {
    "papermill": {
     "duration": 0.012689,
     "end_time": "2024-07-15T11:55:21.980483",
     "exception": false,
     "start_time": "2024-07-15T11:55:21.967794",
     "status": "completed"
    },
    "tags": []
   },
   "source": [
    "## Preprocessing"
   ]
  },
  {
   "cell_type": "code",
   "execution_count": 13,
   "id": "ee488a0f",
   "metadata": {
    "execution": {
     "iopub.execute_input": "2024-07-15T11:55:22.007947Z",
     "iopub.status.busy": "2024-07-15T11:55:22.007513Z",
     "iopub.status.idle": "2024-07-15T11:55:22.168900Z",
     "shell.execute_reply": "2024-07-15T11:55:22.167538Z"
    },
    "papermill": {
     "duration": 0.178362,
     "end_time": "2024-07-15T11:55:22.171785",
     "exception": false,
     "start_time": "2024-07-15T11:55:21.993423",
     "status": "completed"
    },
    "tags": []
   },
   "outputs": [],
   "source": [
    "df_train_filtered = df_train_filtered[df_train_filtered['anatom_site_general'].notna()]\n",
    "df_train_filtered.reset_index(drop=True, inplace=True)"
   ]
  },
  {
   "cell_type": "code",
   "execution_count": 15,
   "id": "9c94b8ad",
   "metadata": {
    "execution": {
     "iopub.execute_input": "2024-07-15T11:55:22.254798Z",
     "iopub.status.busy": "2024-07-15T11:55:22.254322Z",
     "iopub.status.idle": "2024-07-15T11:55:22.264553Z",
     "shell.execute_reply": "2024-07-15T11:55:22.263266Z"
    },
    "papermill": {
     "duration": 0.029204,
     "end_time": "2024-07-15T11:55:22.267755",
     "exception": false,
     "start_time": "2024-07-15T11:55:22.238551",
     "status": "completed"
    },
    "tags": []
   },
   "outputs": [],
   "source": [
    "def feature_engineering_process(df, num_columns, medians):\n",
    "     # Handle numerical columns missing values\n",
    "    for nc in num_columns:\n",
    "        df[nc] = df[nc].fillna(medians.get(nc, 0))  \n",
    "    # Replacement for 0 to na to avoid incorrect calulation in feature engineering as 0 really mean missing value\n",
    "    replace_cols = ['tbp_lv_color_std_mean', 'tbp_lv_norm_color', 'tbp_lv_radial_color_std_max']\n",
    "    for col in replace_cols:\n",
    "        if col in df.columns:\n",
    "            df[col] = df[col].replace(0, np.nan)\n",
    "    #Feature engineering\n",
    "    df_num = df[num_columns]\n",
    "    df_num = feature_engineering(df_num)   \n",
    "    numerical_columns_list = list(df_num.columns)    \n",
    "    \n",
    "    return df_num, numerical_columns_list"
   ]
  },
  {
   "cell_type": "code",
   "execution_count": 16,
   "id": "901fc17a",
   "metadata": {
    "execution": {
     "iopub.execute_input": "2024-07-15T11:55:22.296061Z",
     "iopub.status.busy": "2024-07-15T11:55:22.295560Z",
     "iopub.status.idle": "2024-07-15T11:55:22.315136Z",
     "shell.execute_reply": "2024-07-15T11:55:22.313894Z"
    },
    "papermill": {
     "duration": 0.036888,
     "end_time": "2024-07-15T11:55:22.318167",
     "exception": false,
     "start_time": "2024-07-15T11:55:22.281279",
     "status": "completed"
    },
    "tags": []
   },
   "outputs": [],
   "source": [
    "class Preprocessor:\n",
    "    def __init__(self):\n",
    "        self.medians = {}\n",
    "        self.one_hot_encoder = OneHotEncoder(handle_unknown='ignore')\n",
    "        self.scaler = StandardScaler()\n",
    "        self.encoded_cols = []\n",
    "        self.numerical_columns = []\n",
    "        self.cat_cols = [\"sex\", \"anatom_site_general\"]       \n",
    "\n",
    "    def fit(self, df):\n",
    "        # Check if input is a numpy array and convert to DataFrame if necessary\n",
    "        if isinstance(df, np.ndarray):\n",
    "            df = pd.DataFrame(df)\n",
    "        \n",
    "        # Determine numerical columns\n",
    "        self.numerical_columns = list(df.select_dtypes(include=['number']).columns)       \n",
    "        if \"target\" in self.numerical_columns:\n",
    "            self.numerical_columns.remove(\"target\") \n",
    "        \n",
    "        # Compute medians for numerical columns\n",
    "        num_medians = df[self.numerical_columns].median()\n",
    "        self.medians = dict(num_medians)\n",
    "\n",
    "        # Compute median for angle\n",
    "        if 'tbp_lv_symm_2axis_angle' in df.columns:\n",
    "            self.medians['tbp_lv_symm_2axis_angle'] = df['tbp_lv_symm_2axis_angle'].median()\n",
    "        \n",
    "        # Fit OneHotEncoder\n",
    "        df['sex'] = df['sex'].fillna('male')\n",
    "        df[self.cat_cols] = df[self.cat_cols].fillna('other') \n",
    "        self.one_hot_encoder.fit(df[self.cat_cols])\n",
    "        self.encoded_cols = self.one_hot_encoder.get_feature_names_out(self.cat_cols)                 \n",
    "        \n",
    "        # I have to do feature engineering process in fit as I nedd the result to fit the scaler\n",
    "        #Feature engineering\n",
    "        df_copy=df.copy()\n",
    "        df_copy, numerical_columns_list = feature_engineering_process (df_copy,self.numerical_columns,self.medians)      \n",
    "        \n",
    "        # Scale numerical columns           \n",
    "        self.scaler.fit(df_copy[numerical_columns_list])\n",
    "\n",
    "        return self\n",
    "\n",
    "    def transform(self, df):\n",
    "        # Handle categorical columns missing values\n",
    "        df['sex'] = df['sex'].fillna('male')\n",
    "        df[self.cat_cols] = df[self.cat_cols].fillna('other')            \n",
    "        \n",
    "        # Specific replacement for 'tbp_lv_symm_2axis_angle' as 0 mean really missing value\n",
    "        if 'tbp_lv_symm_2axis_angle' in df.columns:\n",
    "            df['tbp_lv_symm_2axis_angle'] = df['tbp_lv_symm_2axis_angle'].replace(0, self.medians['tbp_lv_symm_2axis_angle'])        \n",
    "       \n",
    "        # Apply one-hot encoding\n",
    "        X_cat = self.one_hot_encoder.transform(df[self.cat_cols])\n",
    "        dense_matrix = X_cat.todense()       \n",
    "        df_encoded = pd.DataFrame(dense_matrix, columns=self.encoded_cols)\n",
    "        \n",
    "        #Feature engineering\n",
    "        df_copy=df.copy()\n",
    "        df_num, numerical_columns_list = feature_engineering_process (df_copy,self.numerical_columns,self.medians)          \n",
    "        \n",
    "        # Scale numerical columns       \n",
    "        df_num[numerical_columns_list] = self.scaler.transform(df_num[numerical_columns_list])\n",
    "        \n",
    "        # Combine encoded and scaled data  \n",
    "        df_final = pd.concat([df_num, df_encoded], axis=1)\n",
    "        \n",
    "        # Add id columns and target back if they exist\n",
    "        if \"isic_id\" in df.columns and \"patient_id\" in df.columns:\n",
    "            ids = df[[\"isic_id\", \"patient_id\"]]\n",
    "            df_final = pd.concat([df_final, ids], axis=1)\n",
    "        if \"target\" in df.columns:\n",
    "            targets = df[[\"target\"]]\n",
    "            df_final = pd.concat([df_final, targets], axis=1)\n",
    "        \n",
    "        return df_final\n",
    "    "
   ]
  },
  {
   "cell_type": "code",
   "execution_count": 17,
   "id": "000ff2bc",
   "metadata": {
    "execution": {
     "iopub.execute_input": "2024-07-15T11:55:22.344941Z",
     "iopub.status.busy": "2024-07-15T11:55:22.344484Z",
     "iopub.status.idle": "2024-07-15T11:55:26.521090Z",
     "shell.execute_reply": "2024-07-15T11:55:26.519459Z"
    },
    "papermill": {
     "duration": 4.193506,
     "end_time": "2024-07-15T11:55:26.524444",
     "exception": false,
     "start_time": "2024-07-15T11:55:22.330938",
     "status": "completed"
    },
    "tags": []
   },
   "outputs": [
    {
     "name": "stderr",
     "output_type": "stream",
     "text": [
      "/tmp/ipykernel_18/3122119603.py:3: SettingWithCopyWarning: \n",
      "A value is trying to be set on a copy of a slice from a DataFrame.\n",
      "Try using .loc[row_indexer,col_indexer] = value instead\n",
      "\n",
      "See the caveats in the documentation: https://pandas.pydata.org/pandas-docs/stable/user_guide/indexing.html#returning-a-view-versus-a-copy\n",
      "  df[\"lesion_size_ratio\"] = df[\"tbp_lv_minorAxisMM\"] / df[\"clin_size_long_diam_mm\"]\n",
      "/tmp/ipykernel_18/3122119603.py:4: SettingWithCopyWarning: \n",
      "A value is trying to be set on a copy of a slice from a DataFrame.\n",
      "Try using .loc[row_indexer,col_indexer] = value instead\n",
      "\n",
      "See the caveats in the documentation: https://pandas.pydata.org/pandas-docs/stable/user_guide/indexing.html#returning-a-view-versus-a-copy\n",
      "  df[\"lesion_shape_index\"] = df[\"tbp_lv_areaMM2\"] / (df[\"tbp_lv_perimeterMM\"] ** 2)\n",
      "/tmp/ipykernel_18/3122119603.py:5: SettingWithCopyWarning: \n",
      "A value is trying to be set on a copy of a slice from a DataFrame.\n",
      "Try using .loc[row_indexer,col_indexer] = value instead\n",
      "\n",
      "See the caveats in the documentation: https://pandas.pydata.org/pandas-docs/stable/user_guide/indexing.html#returning-a-view-versus-a-copy\n",
      "  df[\"hue_contrast\"] = (df[\"tbp_lv_H\"] - df[\"tbp_lv_Hext\"]).abs()\n",
      "/tmp/ipykernel_18/3122119603.py:6: SettingWithCopyWarning: \n",
      "A value is trying to be set on a copy of a slice from a DataFrame.\n",
      "Try using .loc[row_indexer,col_indexer] = value instead\n",
      "\n",
      "See the caveats in the documentation: https://pandas.pydata.org/pandas-docs/stable/user_guide/indexing.html#returning-a-view-versus-a-copy\n",
      "  df[\"luminance_contrast\"] = (df[\"tbp_lv_L\"] - df[\"tbp_lv_Lext\"]).abs()\n",
      "/tmp/ipykernel_18/3122119603.py:7: SettingWithCopyWarning: \n",
      "A value is trying to be set on a copy of a slice from a DataFrame.\n",
      "Try using .loc[row_indexer,col_indexer] = value instead\n",
      "\n",
      "See the caveats in the documentation: https://pandas.pydata.org/pandas-docs/stable/user_guide/indexing.html#returning-a-view-versus-a-copy\n",
      "  df[\"lesion_color_difference\"] = np.sqrt(df[\"tbp_lv_deltaA\"] ** 2 + df[\"tbp_lv_deltaB\"] ** 2 + df[\"tbp_lv_deltaL\"] ** 2)\n",
      "/tmp/ipykernel_18/3122119603.py:8: SettingWithCopyWarning: \n",
      "A value is trying to be set on a copy of a slice from a DataFrame.\n",
      "Try using .loc[row_indexer,col_indexer] = value instead\n",
      "\n",
      "See the caveats in the documentation: https://pandas.pydata.org/pandas-docs/stable/user_guide/indexing.html#returning-a-view-versus-a-copy\n",
      "  df[\"border_complexity\"] = df[\"tbp_lv_norm_border\"] + df[\"tbp_lv_symm_2axis\"]\n",
      "/tmp/ipykernel_18/3122119603.py:9: SettingWithCopyWarning: \n",
      "A value is trying to be set on a copy of a slice from a DataFrame.\n",
      "Try using .loc[row_indexer,col_indexer] = value instead\n",
      "\n",
      "See the caveats in the documentation: https://pandas.pydata.org/pandas-docs/stable/user_guide/indexing.html#returning-a-view-versus-a-copy\n",
      "  df[\"color_uniformity\"] = df[\"tbp_lv_color_std_mean\"] / df[\"tbp_lv_radial_color_std_max\"]\n",
      "/tmp/ipykernel_18/3122119603.py:10: SettingWithCopyWarning: \n",
      "A value is trying to be set on a copy of a slice from a DataFrame.\n",
      "Try using .loc[row_indexer,col_indexer] = value instead\n",
      "\n",
      "See the caveats in the documentation: https://pandas.pydata.org/pandas-docs/stable/user_guide/indexing.html#returning-a-view-versus-a-copy\n",
      "  df[\"3d_position_distance\"] = np.sqrt(df[\"tbp_lv_x\"] ** 2 + df[\"tbp_lv_y\"] ** 2 + df[\"tbp_lv_z\"] ** 2)\n",
      "/tmp/ipykernel_18/3122119603.py:11: SettingWithCopyWarning: \n",
      "A value is trying to be set on a copy of a slice from a DataFrame.\n",
      "Try using .loc[row_indexer,col_indexer] = value instead\n",
      "\n",
      "See the caveats in the documentation: https://pandas.pydata.org/pandas-docs/stable/user_guide/indexing.html#returning-a-view-versus-a-copy\n",
      "  df[\"perimeter_to_area_ratio\"] = df[\"tbp_lv_perimeterMM\"] / df[\"tbp_lv_areaMM2\"]\n",
      "/tmp/ipykernel_18/3122119603.py:12: SettingWithCopyWarning: \n",
      "A value is trying to be set on a copy of a slice from a DataFrame.\n",
      "Try using .loc[row_indexer,col_indexer] = value instead\n",
      "\n",
      "See the caveats in the documentation: https://pandas.pydata.org/pandas-docs/stable/user_guide/indexing.html#returning-a-view-versus-a-copy\n",
      "  df[\"lesion_visibility_score\"] = df[\"tbp_lv_deltaLBnorm\"] + df[\"tbp_lv_norm_color\"]\n",
      "/tmp/ipykernel_18/3122119603.py:3: SettingWithCopyWarning: \n",
      "A value is trying to be set on a copy of a slice from a DataFrame.\n",
      "Try using .loc[row_indexer,col_indexer] = value instead\n",
      "\n",
      "See the caveats in the documentation: https://pandas.pydata.org/pandas-docs/stable/user_guide/indexing.html#returning-a-view-versus-a-copy\n",
      "  df[\"lesion_size_ratio\"] = df[\"tbp_lv_minorAxisMM\"] / df[\"clin_size_long_diam_mm\"]\n",
      "/tmp/ipykernel_18/3122119603.py:4: SettingWithCopyWarning: \n",
      "A value is trying to be set on a copy of a slice from a DataFrame.\n",
      "Try using .loc[row_indexer,col_indexer] = value instead\n",
      "\n",
      "See the caveats in the documentation: https://pandas.pydata.org/pandas-docs/stable/user_guide/indexing.html#returning-a-view-versus-a-copy\n",
      "  df[\"lesion_shape_index\"] = df[\"tbp_lv_areaMM2\"] / (df[\"tbp_lv_perimeterMM\"] ** 2)\n",
      "/tmp/ipykernel_18/3122119603.py:5: SettingWithCopyWarning: \n",
      "A value is trying to be set on a copy of a slice from a DataFrame.\n",
      "Try using .loc[row_indexer,col_indexer] = value instead\n",
      "\n",
      "See the caveats in the documentation: https://pandas.pydata.org/pandas-docs/stable/user_guide/indexing.html#returning-a-view-versus-a-copy\n",
      "  df[\"hue_contrast\"] = (df[\"tbp_lv_H\"] - df[\"tbp_lv_Hext\"]).abs()\n",
      "/tmp/ipykernel_18/3122119603.py:6: SettingWithCopyWarning: \n",
      "A value is trying to be set on a copy of a slice from a DataFrame.\n",
      "Try using .loc[row_indexer,col_indexer] = value instead\n",
      "\n",
      "See the caveats in the documentation: https://pandas.pydata.org/pandas-docs/stable/user_guide/indexing.html#returning-a-view-versus-a-copy\n",
      "  df[\"luminance_contrast\"] = (df[\"tbp_lv_L\"] - df[\"tbp_lv_Lext\"]).abs()\n",
      "/tmp/ipykernel_18/3122119603.py:7: SettingWithCopyWarning: \n",
      "A value is trying to be set on a copy of a slice from a DataFrame.\n",
      "Try using .loc[row_indexer,col_indexer] = value instead\n",
      "\n",
      "See the caveats in the documentation: https://pandas.pydata.org/pandas-docs/stable/user_guide/indexing.html#returning-a-view-versus-a-copy\n",
      "  df[\"lesion_color_difference\"] = np.sqrt(df[\"tbp_lv_deltaA\"] ** 2 + df[\"tbp_lv_deltaB\"] ** 2 + df[\"tbp_lv_deltaL\"] ** 2)\n",
      "/tmp/ipykernel_18/3122119603.py:8: SettingWithCopyWarning: \n",
      "A value is trying to be set on a copy of a slice from a DataFrame.\n",
      "Try using .loc[row_indexer,col_indexer] = value instead\n",
      "\n",
      "See the caveats in the documentation: https://pandas.pydata.org/pandas-docs/stable/user_guide/indexing.html#returning-a-view-versus-a-copy\n",
      "  df[\"border_complexity\"] = df[\"tbp_lv_norm_border\"] + df[\"tbp_lv_symm_2axis\"]\n",
      "/tmp/ipykernel_18/3122119603.py:9: SettingWithCopyWarning: \n",
      "A value is trying to be set on a copy of a slice from a DataFrame.\n",
      "Try using .loc[row_indexer,col_indexer] = value instead\n",
      "\n",
      "See the caveats in the documentation: https://pandas.pydata.org/pandas-docs/stable/user_guide/indexing.html#returning-a-view-versus-a-copy\n",
      "  df[\"color_uniformity\"] = df[\"tbp_lv_color_std_mean\"] / df[\"tbp_lv_radial_color_std_max\"]\n",
      "/tmp/ipykernel_18/3122119603.py:10: SettingWithCopyWarning: \n",
      "A value is trying to be set on a copy of a slice from a DataFrame.\n",
      "Try using .loc[row_indexer,col_indexer] = value instead\n",
      "\n",
      "See the caveats in the documentation: https://pandas.pydata.org/pandas-docs/stable/user_guide/indexing.html#returning-a-view-versus-a-copy\n",
      "  df[\"3d_position_distance\"] = np.sqrt(df[\"tbp_lv_x\"] ** 2 + df[\"tbp_lv_y\"] ** 2 + df[\"tbp_lv_z\"] ** 2)\n",
      "/tmp/ipykernel_18/3122119603.py:11: SettingWithCopyWarning: \n",
      "A value is trying to be set on a copy of a slice from a DataFrame.\n",
      "Try using .loc[row_indexer,col_indexer] = value instead\n",
      "\n",
      "See the caveats in the documentation: https://pandas.pydata.org/pandas-docs/stable/user_guide/indexing.html#returning-a-view-versus-a-copy\n",
      "  df[\"perimeter_to_area_ratio\"] = df[\"tbp_lv_perimeterMM\"] / df[\"tbp_lv_areaMM2\"]\n",
      "/tmp/ipykernel_18/3122119603.py:12: SettingWithCopyWarning: \n",
      "A value is trying to be set on a copy of a slice from a DataFrame.\n",
      "Try using .loc[row_indexer,col_indexer] = value instead\n",
      "\n",
      "See the caveats in the documentation: https://pandas.pydata.org/pandas-docs/stable/user_guide/indexing.html#returning-a-view-versus-a-copy\n",
      "  df[\"lesion_visibility_score\"] = df[\"tbp_lv_deltaLBnorm\"] + df[\"tbp_lv_norm_color\"]\n"
     ]
    }
   ],
   "source": [
    "preprocessor = Preprocessor()\n",
    "preprocessor.fit(df_train_filtered)\n",
    "df_train_final = preprocessor.transform(df_train_filtered)"
   ]
  },
  {
   "cell_type": "code",
   "execution_count": 18,
   "id": "9572c2a8",
   "metadata": {
    "execution": {
     "iopub.execute_input": "2024-07-15T11:55:26.552847Z",
     "iopub.status.busy": "2024-07-15T11:55:26.552384Z",
     "iopub.status.idle": "2024-07-15T11:55:26.559978Z",
     "shell.execute_reply": "2024-07-15T11:55:26.558456Z"
    },
    "papermill": {
     "duration": 0.024916,
     "end_time": "2024-07-15T11:55:26.562547",
     "exception": false,
     "start_time": "2024-07-15T11:55:26.537631",
     "status": "completed"
    },
    "tags": []
   },
   "outputs": [
    {
     "data": {
      "text/plain": [
       "79"
      ]
     },
     "execution_count": 18,
     "metadata": {},
     "output_type": "execute_result"
    }
   ],
   "source": [
    "len(df_train_final.columns)"
   ]
  },
  {
   "cell_type": "markdown",
   "id": "1bae0141",
   "metadata": {
    "papermill": {
     "duration": 0.014205,
     "end_time": "2024-07-15T11:55:26.590449",
     "exception": false,
     "start_time": "2024-07-15T11:55:26.576244",
     "status": "completed"
    },
    "tags": []
   },
   "source": [
    "## Training"
   ]
  },
  {
   "cell_type": "markdown",
   "id": "7f76fd69",
   "metadata": {
    "papermill": {
     "duration": 0.014152,
     "end_time": "2024-07-15T11:55:26.618542",
     "exception": false,
     "start_time": "2024-07-15T11:55:26.604390",
     "status": "completed"
    },
    "tags": []
   },
   "source": [
    "### Competition metric"
   ]
  },
  {
   "cell_type": "code",
   "execution_count": 19,
   "id": "2f16a715",
   "metadata": {
    "execution": {
     "iopub.execute_input": "2024-07-15T11:55:26.648107Z",
     "iopub.status.busy": "2024-07-15T11:55:26.647702Z",
     "iopub.status.idle": "2024-07-15T11:55:26.656144Z",
     "shell.execute_reply": "2024-07-15T11:55:26.654686Z"
    },
    "papermill": {
     "duration": 0.027031,
     "end_time": "2024-07-15T11:55:26.658972",
     "exception": false,
     "start_time": "2024-07-15T11:55:26.631941",
     "status": "completed"
    },
    "tags": []
   },
   "outputs": [],
   "source": [
    "def comp_score(solution: pd.DataFrame, submission: pd.DataFrame, row_id_column_name: str, min_tpr: float=0.80):\n",
    "    v_gt = abs(np.asarray(solution.values)-1)\n",
    "    v_pred = np.array([1.0 - x for x in submission.values])\n",
    "    max_fpr = abs(1-min_tpr)\n",
    "    partial_auc_scaled = roc_auc_score(v_gt, v_pred, max_fpr=max_fpr)\n",
    "    # change scale from [0.5, 1.0] to [0.5 * max_fpr**2, max_fpr]\n",
    "    # https://math.stackexchange.com/questions/914823/shift-numbers-into-a-different-range\n",
    "    partial_auc = 0.5 * max_fpr**2 + (max_fpr - 0.5 * max_fpr**2) / (1.0 - 0.5) * (partial_auc_scaled - 0.5)\n",
    "    return partial_auc"
   ]
  },
  {
   "cell_type": "markdown",
   "id": "709df437",
   "metadata": {
    "papermill": {
     "duration": 0.01231,
     "end_time": "2024-07-15T11:55:26.684033",
     "exception": false,
     "start_time": "2024-07-15T11:55:26.671723",
     "status": "completed"
    },
    "tags": []
   },
   "source": [
    "### CV validation and shuffling"
   ]
  },
  {
   "cell_type": "code",
   "execution_count": 20,
   "id": "61d60bcf",
   "metadata": {
    "execution": {
     "iopub.execute_input": "2024-07-15T11:55:26.712157Z",
     "iopub.status.busy": "2024-07-15T11:55:26.711725Z",
     "iopub.status.idle": "2024-07-15T11:55:28.315042Z",
     "shell.execute_reply": "2024-07-15T11:55:28.313725Z"
    },
    "papermill": {
     "duration": 1.619996,
     "end_time": "2024-07-15T11:55:28.317539",
     "exception": false,
     "start_time": "2024-07-15T11:55:26.697543",
     "status": "completed"
    },
    "tags": []
   },
   "outputs": [
    {
     "data": {
      "text/html": [
       "<div>\n",
       "<style scoped>\n",
       "    .dataframe tbody tr th:only-of-type {\n",
       "        vertical-align: middle;\n",
       "    }\n",
       "\n",
       "    .dataframe tbody tr th {\n",
       "        vertical-align: top;\n",
       "    }\n",
       "\n",
       "    .dataframe thead th {\n",
       "        text-align: right;\n",
       "    }\n",
       "</style>\n",
       "<table border=\"1\" class=\"dataframe\">\n",
       "  <thead>\n",
       "    <tr style=\"text-align: right;\">\n",
       "      <th></th>\n",
       "      <th>age_approx</th>\n",
       "      <th>clin_size_long_diam_mm</th>\n",
       "      <th>tbp_lv_A</th>\n",
       "      <th>tbp_lv_Aext</th>\n",
       "      <th>tbp_lv_B</th>\n",
       "      <th>tbp_lv_Bext</th>\n",
       "      <th>tbp_lv_C</th>\n",
       "      <th>tbp_lv_Cext</th>\n",
       "      <th>tbp_lv_H</th>\n",
       "      <th>tbp_lv_Hext</th>\n",
       "      <th>...</th>\n",
       "      <th>sex_male</th>\n",
       "      <th>anatom_site_general_anterior torso</th>\n",
       "      <th>anatom_site_general_head/neck</th>\n",
       "      <th>anatom_site_general_lower extremity</th>\n",
       "      <th>anatom_site_general_posterior torso</th>\n",
       "      <th>anatom_site_general_upper extremity</th>\n",
       "      <th>isic_id</th>\n",
       "      <th>patient_id</th>\n",
       "      <th>target</th>\n",
       "      <th>fold</th>\n",
       "    </tr>\n",
       "  </thead>\n",
       "  <tbody>\n",
       "    <tr>\n",
       "      <th>0</th>\n",
       "      <td>0.888687</td>\n",
       "      <td>-0.258416</td>\n",
       "      <td>-0.949418</td>\n",
       "      <td>-0.395963</td>\n",
       "      <td>-0.867580</td>\n",
       "      <td>-1.308590</td>\n",
       "      <td>-1.067123</td>\n",
       "      <td>-1.223959</td>\n",
       "      <td>0.187811</td>\n",
       "      <td>-0.657604</td>\n",
       "      <td>...</td>\n",
       "      <td>1.0</td>\n",
       "      <td>1.0</td>\n",
       "      <td>0.0</td>\n",
       "      <td>0.0</td>\n",
       "      <td>0.0</td>\n",
       "      <td>0.0</td>\n",
       "      <td>ISIC_3974858</td>\n",
       "      <td>IP_0321326</td>\n",
       "      <td>0</td>\n",
       "      <td>8</td>\n",
       "    </tr>\n",
       "    <tr>\n",
       "      <th>1</th>\n",
       "      <td>-0.218555</td>\n",
       "      <td>1.090651</td>\n",
       "      <td>-0.651150</td>\n",
       "      <td>-0.500119</td>\n",
       "      <td>-1.081034</td>\n",
       "      <td>-0.732112</td>\n",
       "      <td>-1.104061</td>\n",
       "      <td>-0.803358</td>\n",
       "      <td>-0.402640</td>\n",
       "      <td>-0.017320</td>\n",
       "      <td>...</td>\n",
       "      <td>1.0</td>\n",
       "      <td>0.0</td>\n",
       "      <td>0.0</td>\n",
       "      <td>0.0</td>\n",
       "      <td>1.0</td>\n",
       "      <td>0.0</td>\n",
       "      <td>ISIC_7476537</td>\n",
       "      <td>IP_3927284</td>\n",
       "      <td>0</td>\n",
       "      <td>2</td>\n",
       "    </tr>\n",
       "    <tr>\n",
       "      <th>2</th>\n",
       "      <td>0.519606</td>\n",
       "      <td>-0.786562</td>\n",
       "      <td>-0.340742</td>\n",
       "      <td>-0.377168</td>\n",
       "      <td>-0.723872</td>\n",
       "      <td>-0.892798</td>\n",
       "      <td>-0.709525</td>\n",
       "      <td>-0.887973</td>\n",
       "      <td>-0.347257</td>\n",
       "      <td>-0.295247</td>\n",
       "      <td>...</td>\n",
       "      <td>1.0</td>\n",
       "      <td>0.0</td>\n",
       "      <td>0.0</td>\n",
       "      <td>1.0</td>\n",
       "      <td>0.0</td>\n",
       "      <td>0.0</td>\n",
       "      <td>ISIC_4412943</td>\n",
       "      <td>IP_4106376</td>\n",
       "      <td>0</td>\n",
       "      <td>6</td>\n",
       "    </tr>\n",
       "    <tr>\n",
       "      <th>3</th>\n",
       "      <td>1.257767</td>\n",
       "      <td>-0.488045</td>\n",
       "      <td>-0.529053</td>\n",
       "      <td>-0.635943</td>\n",
       "      <td>0.560128</td>\n",
       "      <td>0.165371</td>\n",
       "      <td>0.209053</td>\n",
       "      <td>-0.103977</td>\n",
       "      <td>1.012378</td>\n",
       "      <td>0.776163</td>\n",
       "      <td>...</td>\n",
       "      <td>0.0</td>\n",
       "      <td>0.0</td>\n",
       "      <td>0.0</td>\n",
       "      <td>1.0</td>\n",
       "      <td>0.0</td>\n",
       "      <td>0.0</td>\n",
       "      <td>ISIC_4779895</td>\n",
       "      <td>IP_9409053</td>\n",
       "      <td>0</td>\n",
       "      <td>7</td>\n",
       "    </tr>\n",
       "    <tr>\n",
       "      <th>4</th>\n",
       "      <td>1.257767</td>\n",
       "      <td>-0.424897</td>\n",
       "      <td>0.398606</td>\n",
       "      <td>0.730885</td>\n",
       "      <td>-0.948540</td>\n",
       "      <td>-0.875623</td>\n",
       "      <td>-0.534655</td>\n",
       "      <td>-0.421042</td>\n",
       "      <td>-1.353235</td>\n",
       "      <td>-1.466109</td>\n",
       "      <td>...</td>\n",
       "      <td>1.0</td>\n",
       "      <td>0.0</td>\n",
       "      <td>0.0</td>\n",
       "      <td>1.0</td>\n",
       "      <td>0.0</td>\n",
       "      <td>0.0</td>\n",
       "      <td>ISIC_7451402</td>\n",
       "      <td>IP_8478332</td>\n",
       "      <td>0</td>\n",
       "      <td>8</td>\n",
       "    </tr>\n",
       "    <tr>\n",
       "      <th>...</th>\n",
       "      <td>...</td>\n",
       "      <td>...</td>\n",
       "      <td>...</td>\n",
       "      <td>...</td>\n",
       "      <td>...</td>\n",
       "      <td>...</td>\n",
       "      <td>...</td>\n",
       "      <td>...</td>\n",
       "      <td>...</td>\n",
       "      <td>...</td>\n",
       "      <td>...</td>\n",
       "      <td>...</td>\n",
       "      <td>...</td>\n",
       "      <td>...</td>\n",
       "      <td>...</td>\n",
       "      <td>...</td>\n",
       "      <td>...</td>\n",
       "      <td>...</td>\n",
       "      <td>...</td>\n",
       "      <td>...</td>\n",
       "      <td>...</td>\n",
       "    </tr>\n",
       "    <tr>\n",
       "      <th>395298</th>\n",
       "      <td>-0.956716</td>\n",
       "      <td>0.958615</td>\n",
       "      <td>-0.752026</td>\n",
       "      <td>-1.146924</td>\n",
       "      <td>-1.107958</td>\n",
       "      <td>-1.240037</td>\n",
       "      <td>-1.166767</td>\n",
       "      <td>-1.442463</td>\n",
       "      <td>-0.316575</td>\n",
       "      <td>0.358589</td>\n",
       "      <td>...</td>\n",
       "      <td>0.0</td>\n",
       "      <td>0.0</td>\n",
       "      <td>0.0</td>\n",
       "      <td>1.0</td>\n",
       "      <td>0.0</td>\n",
       "      <td>0.0</td>\n",
       "      <td>ISIC_7682783</td>\n",
       "      <td>IP_5568236</td>\n",
       "      <td>0</td>\n",
       "      <td>9</td>\n",
       "    </tr>\n",
       "    <tr>\n",
       "      <th>395299</th>\n",
       "      <td>-0.587636</td>\n",
       "      <td>-0.132121</td>\n",
       "      <td>0.854721</td>\n",
       "      <td>0.207245</td>\n",
       "      <td>-0.130823</td>\n",
       "      <td>0.456535</td>\n",
       "      <td>0.243436</td>\n",
       "      <td>0.413796</td>\n",
       "      <td>-0.896373</td>\n",
       "      <td>0.108905</td>\n",
       "      <td>...</td>\n",
       "      <td>1.0</td>\n",
       "      <td>0.0</td>\n",
       "      <td>0.0</td>\n",
       "      <td>0.0</td>\n",
       "      <td>1.0</td>\n",
       "      <td>0.0</td>\n",
       "      <td>ISIC_8245366</td>\n",
       "      <td>IP_2573038</td>\n",
       "      <td>0</td>\n",
       "      <td>7</td>\n",
       "    </tr>\n",
       "    <tr>\n",
       "      <th>395300</th>\n",
       "      <td>1.995929</td>\n",
       "      <td>2.985086</td>\n",
       "      <td>-1.171835</td>\n",
       "      <td>-1.143425</td>\n",
       "      <td>-0.235249</td>\n",
       "      <td>-0.080850</td>\n",
       "      <td>-0.652998</td>\n",
       "      <td>-0.461789</td>\n",
       "      <td>1.062455</td>\n",
       "      <td>1.189559</td>\n",
       "      <td>...</td>\n",
       "      <td>1.0</td>\n",
       "      <td>0.0</td>\n",
       "      <td>0.0</td>\n",
       "      <td>0.0</td>\n",
       "      <td>1.0</td>\n",
       "      <td>0.0</td>\n",
       "      <td>ISIC_7775178</td>\n",
       "      <td>IP_5811816</td>\n",
       "      <td>0</td>\n",
       "      <td>4</td>\n",
       "    </tr>\n",
       "    <tr>\n",
       "      <th>395301</th>\n",
       "      <td>-0.218555</td>\n",
       "      <td>-0.201009</td>\n",
       "      <td>0.918259</td>\n",
       "      <td>0.898165</td>\n",
       "      <td>-0.711586</td>\n",
       "      <td>-0.949385</td>\n",
       "      <td>-0.125056</td>\n",
       "      <td>-0.399892</td>\n",
       "      <td>-1.559169</td>\n",
       "      <td>-1.700749</td>\n",
       "      <td>...</td>\n",
       "      <td>0.0</td>\n",
       "      <td>0.0</td>\n",
       "      <td>0.0</td>\n",
       "      <td>1.0</td>\n",
       "      <td>0.0</td>\n",
       "      <td>0.0</td>\n",
       "      <td>ISIC_3064396</td>\n",
       "      <td>IP_7330399</td>\n",
       "      <td>0</td>\n",
       "      <td>8</td>\n",
       "    </tr>\n",
       "    <tr>\n",
       "      <th>395302</th>\n",
       "      <td>-0.218555</td>\n",
       "      <td>-0.608600</td>\n",
       "      <td>0.884939</td>\n",
       "      <td>0.732481</td>\n",
       "      <td>0.327045</td>\n",
       "      <td>-0.013596</td>\n",
       "      <td>0.584934</td>\n",
       "      <td>0.234704</td>\n",
       "      <td>-0.496229</td>\n",
       "      <td>-0.726070</td>\n",
       "      <td>...</td>\n",
       "      <td>1.0</td>\n",
       "      <td>0.0</td>\n",
       "      <td>0.0</td>\n",
       "      <td>0.0</td>\n",
       "      <td>1.0</td>\n",
       "      <td>0.0</td>\n",
       "      <td>ISIC_0411489</td>\n",
       "      <td>IP_7152379</td>\n",
       "      <td>0</td>\n",
       "      <td>4</td>\n",
       "    </tr>\n",
       "  </tbody>\n",
       "</table>\n",
       "<p>395303 rows × 80 columns</p>\n",
       "</div>"
      ],
      "text/plain": [
       "        age_approx  clin_size_long_diam_mm  tbp_lv_A  tbp_lv_Aext  tbp_lv_B  \\\n",
       "0         0.888687               -0.258416 -0.949418    -0.395963 -0.867580   \n",
       "1        -0.218555                1.090651 -0.651150    -0.500119 -1.081034   \n",
       "2         0.519606               -0.786562 -0.340742    -0.377168 -0.723872   \n",
       "3         1.257767               -0.488045 -0.529053    -0.635943  0.560128   \n",
       "4         1.257767               -0.424897  0.398606     0.730885 -0.948540   \n",
       "...            ...                     ...       ...          ...       ...   \n",
       "395298   -0.956716                0.958615 -0.752026    -1.146924 -1.107958   \n",
       "395299   -0.587636               -0.132121  0.854721     0.207245 -0.130823   \n",
       "395300    1.995929                2.985086 -1.171835    -1.143425 -0.235249   \n",
       "395301   -0.218555               -0.201009  0.918259     0.898165 -0.711586   \n",
       "395302   -0.218555               -0.608600  0.884939     0.732481  0.327045   \n",
       "\n",
       "        tbp_lv_Bext  tbp_lv_C  tbp_lv_Cext  tbp_lv_H  tbp_lv_Hext  ...  \\\n",
       "0         -1.308590 -1.067123    -1.223959  0.187811    -0.657604  ...   \n",
       "1         -0.732112 -1.104061    -0.803358 -0.402640    -0.017320  ...   \n",
       "2         -0.892798 -0.709525    -0.887973 -0.347257    -0.295247  ...   \n",
       "3          0.165371  0.209053    -0.103977  1.012378     0.776163  ...   \n",
       "4         -0.875623 -0.534655    -0.421042 -1.353235    -1.466109  ...   \n",
       "...             ...       ...          ...       ...          ...  ...   \n",
       "395298    -1.240037 -1.166767    -1.442463 -0.316575     0.358589  ...   \n",
       "395299     0.456535  0.243436     0.413796 -0.896373     0.108905  ...   \n",
       "395300    -0.080850 -0.652998    -0.461789  1.062455     1.189559  ...   \n",
       "395301    -0.949385 -0.125056    -0.399892 -1.559169    -1.700749  ...   \n",
       "395302    -0.013596  0.584934     0.234704 -0.496229    -0.726070  ...   \n",
       "\n",
       "        sex_male  anatom_site_general_anterior torso  \\\n",
       "0            1.0                                 1.0   \n",
       "1            1.0                                 0.0   \n",
       "2            1.0                                 0.0   \n",
       "3            0.0                                 0.0   \n",
       "4            1.0                                 0.0   \n",
       "...          ...                                 ...   \n",
       "395298       0.0                                 0.0   \n",
       "395299       1.0                                 0.0   \n",
       "395300       1.0                                 0.0   \n",
       "395301       0.0                                 0.0   \n",
       "395302       1.0                                 0.0   \n",
       "\n",
       "        anatom_site_general_head/neck  anatom_site_general_lower extremity  \\\n",
       "0                                 0.0                                  0.0   \n",
       "1                                 0.0                                  0.0   \n",
       "2                                 0.0                                  1.0   \n",
       "3                                 0.0                                  1.0   \n",
       "4                                 0.0                                  1.0   \n",
       "...                               ...                                  ...   \n",
       "395298                            0.0                                  1.0   \n",
       "395299                            0.0                                  0.0   \n",
       "395300                            0.0                                  0.0   \n",
       "395301                            0.0                                  1.0   \n",
       "395302                            0.0                                  0.0   \n",
       "\n",
       "        anatom_site_general_posterior torso  \\\n",
       "0                                       0.0   \n",
       "1                                       1.0   \n",
       "2                                       0.0   \n",
       "3                                       0.0   \n",
       "4                                       0.0   \n",
       "...                                     ...   \n",
       "395298                                  0.0   \n",
       "395299                                  1.0   \n",
       "395300                                  1.0   \n",
       "395301                                  0.0   \n",
       "395302                                  1.0   \n",
       "\n",
       "        anatom_site_general_upper extremity       isic_id  patient_id  target  \\\n",
       "0                                       0.0  ISIC_3974858  IP_0321326       0   \n",
       "1                                       0.0  ISIC_7476537  IP_3927284       0   \n",
       "2                                       0.0  ISIC_4412943  IP_4106376       0   \n",
       "3                                       0.0  ISIC_4779895  IP_9409053       0   \n",
       "4                                       0.0  ISIC_7451402  IP_8478332       0   \n",
       "...                                     ...           ...         ...     ...   \n",
       "395298                                  0.0  ISIC_7682783  IP_5568236       0   \n",
       "395299                                  0.0  ISIC_8245366  IP_2573038       0   \n",
       "395300                                  0.0  ISIC_7775178  IP_5811816       0   \n",
       "395301                                  0.0  ISIC_3064396  IP_7330399       0   \n",
       "395302                                  0.0  ISIC_0411489  IP_7152379       0   \n",
       "\n",
       "        fold  \n",
       "0          8  \n",
       "1          2  \n",
       "2          6  \n",
       "3          7  \n",
       "4          8  \n",
       "...      ...  \n",
       "395298     9  \n",
       "395299     7  \n",
       "395300     4  \n",
       "395301     8  \n",
       "395302     4  \n",
       "\n",
       "[395303 rows x 80 columns]"
      ]
     },
     "execution_count": 20,
     "metadata": {},
     "output_type": "execute_result"
    }
   ],
   "source": [
    "N_SPLITS = 10\n",
    "gkf = GroupKFold(n_splits=N_SPLITS)\n",
    "\n",
    "df_train_final = df_train_final.sample(frac=1).reset_index(drop=True)\n",
    "df_train_final[\"fold\"] = -1\n",
    "for idx, (train_idx, val_idx) in enumerate(gkf.split(df_train_final, df_train_final[\"target\"], groups=df_train_final[\"patient_id\"])):\n",
    "    df_train_final.loc[val_idx, \"fold\"] = idx\n",
    "df_train_final"
   ]
  },
  {
   "cell_type": "markdown",
   "id": "7b1b1f18",
   "metadata": {
    "papermill": {
     "duration": 0.013852,
     "end_time": "2024-07-15T11:55:28.345095",
     "exception": false,
     "start_time": "2024-07-15T11:55:28.331243",
     "status": "completed"
    },
    "tags": []
   },
   "source": [
    "### training"
   ]
  },
  {
   "cell_type": "code",
   "execution_count": 21,
   "id": "0b0602d9",
   "metadata": {
    "execution": {
     "iopub.execute_input": "2024-07-15T11:55:28.375817Z",
     "iopub.status.busy": "2024-07-15T11:55:28.375276Z",
     "iopub.status.idle": "2024-07-15T12:12:05.664278Z",
     "shell.execute_reply": "2024-07-15T12:12:05.662690Z"
    },
    "papermill": {
     "duration": 997.323992,
     "end_time": "2024-07-15T12:12:05.682510",
     "exception": false,
     "start_time": "2024-07-15T11:55:28.358518",
     "status": "completed"
    },
    "tags": []
   },
   "outputs": [
    {
     "name": "stdout",
     "output_type": "stream",
     "text": [
      "fold: 0 - Partial AUC Score: 0.17873\n",
      "fold: 1 - Partial AUC Score: 0.15767\n",
      "fold: 2 - Partial AUC Score: 0.15876\n",
      "fold: 3 - Partial AUC Score: 0.16163\n",
      "fold: 4 - Partial AUC Score: 0.13094\n",
      "fold: 5 - Partial AUC Score: 0.18350\n",
      "fold: 6 - Partial AUC Score: 0.15203\n",
      "fold: 7 - Partial AUC Score: 0.16949\n",
      "fold: 8 - Partial AUC Score: 0.09813\n",
      "fold: 9 - Partial AUC Score: 0.16776\n"
     ]
    }
   ],
   "source": [
    "lgb_params = {\n",
    "    'objective': 'binary',\n",
    "    \"random_state\": 42,\n",
    "    \"n_estimators\": 1500,\n",
    "    'learning_rate': 0.001,\n",
    "    'bagging_freq': 1,\n",
    "    'pos_bagging_fraction': 0.75,\n",
    "    'neg_bagging_fraction': 0.05,\n",
    "    'feature_fraction': 0.6,\n",
    "    'lambda_l1': 0.2,\n",
    "    'lambda_l2': 0.7,\n",
    "    'num_leaves': 35,\n",
    "    \"min_data_in_leaf\": 50,\n",
    "    \"verbosity\": -1,\n",
    "    # \"device\": \"gpu\"\n",
    "    # \"extra_trees\": True\n",
    "}\n",
    "\n",
    "lgb_scores = []\n",
    "lgb_models = []\n",
    "train_cols = list(df_train_final.columns)\n",
    "for c in [\"fold\", \"target\",\"isic_id\", \"patient_id\"]:\n",
    "    train_cols.remove(c)\n",
    "for fold in range(N_SPLITS):\n",
    "    _df_train = df_train_final[df_train_final[\"fold\"] != fold].reset_index(drop=True)\n",
    "    _df_valid = df_train_final[df_train_final[\"fold\"] == fold].reset_index(drop=True)\n",
    "    model = LGBMClassifier(**lgb_params)    \n",
    "    # model = VotingClassifier([(f\"lgb_{i}\", lgb.LGBMClassifier(random_state=i, **lgb_params)) for i in range(1)], voting=\"soft\")\n",
    "    model.fit(_df_train[train_cols], _df_train[\"target\"])\n",
    "    preds = model.predict_proba(_df_valid[train_cols])[:, 1]\n",
    "    score = comp_score(_df_valid[[\"target\"]], pd.DataFrame(preds, columns=[\"prediction\"]), \"\")\n",
    "    print(f\"fold: {fold} - Partial AUC Score: {score:.5f}\")\n",
    "    lgb_scores.append(score)\n",
    "    lgb_models.append(model)"
   ]
  },
  {
   "cell_type": "code",
   "execution_count": 22,
   "id": "560b04f7",
   "metadata": {
    "execution": {
     "iopub.execute_input": "2024-07-15T12:12:05.715329Z",
     "iopub.status.busy": "2024-07-15T12:12:05.714946Z",
     "iopub.status.idle": "2024-07-15T12:12:05.721302Z",
     "shell.execute_reply": "2024-07-15T12:12:05.720121Z"
    },
    "papermill": {
     "duration": 0.026232,
     "end_time": "2024-07-15T12:12:05.724462",
     "exception": false,
     "start_time": "2024-07-15T12:12:05.698230",
     "status": "completed"
    },
    "tags": []
   },
   "outputs": [
    {
     "name": "stdout",
     "output_type": "stream",
     "text": [
      "LGBM Score: 0.15586\n"
     ]
    }
   ],
   "source": [
    "lgbm_score = np.mean(lgb_scores)\n",
    "print(f\"LGBM Score: {lgbm_score:.5f}\")"
   ]
  },
  {
   "cell_type": "markdown",
   "id": "21dafbb1",
   "metadata": {
    "papermill": {
     "duration": 0.01409,
     "end_time": "2024-07-15T12:12:05.753192",
     "exception": false,
     "start_time": "2024-07-15T12:12:05.739102",
     "status": "completed"
    },
    "tags": []
   },
   "source": [
    "### Prediction"
   ]
  },
  {
   "cell_type": "code",
   "execution_count": 23,
   "id": "1577b9a0",
   "metadata": {
    "execution": {
     "iopub.execute_input": "2024-07-15T12:12:05.784509Z",
     "iopub.status.busy": "2024-07-15T12:12:05.784083Z",
     "iopub.status.idle": "2024-07-15T12:12:05.921044Z",
     "shell.execute_reply": "2024-07-15T12:12:05.919353Z"
    },
    "papermill": {
     "duration": 0.158831,
     "end_time": "2024-07-15T12:12:05.926286",
     "exception": false,
     "start_time": "2024-07-15T12:12:05.767455",
     "status": "completed"
    },
    "tags": []
   },
   "outputs": [
    {
     "name": "stdout",
     "output_type": "stream",
     "text": [
      "   age_approx  clin_size_long_diam_mm  tbp_lv_A  tbp_lv_Aext  tbp_lv_B  \\\n",
      "0   -0.956716               -0.706192  0.711846     1.452077  0.024677   \n",
      "1   -1.694878               -0.809525 -0.829749    -1.492132  0.582124   \n",
      "2    0.519606               -0.442119  1.074854     1.432195  0.419865   \n",
      "\n",
      "   tbp_lv_Bext  tbp_lv_C  tbp_lv_Cext  tbp_lv_H  tbp_lv_Hext  ...  \\\n",
      "0     0.036119  0.290498     0.573242 -0.621119    -1.331326  ...   \n",
      "1     0.143826  0.124961    -0.357369  1.334613     1.718607  ...   \n",
      "2     0.336511  0.734847     0.791126 -0.575095    -1.080711  ...   \n",
      "\n",
      "   shape_color_consistency  border_length_ratio  age_size_symmetry_index  \\\n",
      "0                -0.937639             0.812669                -0.246080   \n",
      "1                      NaN             0.040993                -0.626517   \n",
      "2                -1.086777             0.144205                 0.066274   \n",
      "\n",
      "   sex_female  sex_male  anatom_site_general_anterior torso  \\\n",
      "0         0.0       1.0                                 0.0   \n",
      "1         1.0       0.0                                 0.0   \n",
      "2         0.0       1.0                                 0.0   \n",
      "\n",
      "   anatom_site_general_head/neck  anatom_site_general_lower extremity  \\\n",
      "0                            0.0                                  0.0   \n",
      "1                            0.0                                  1.0   \n",
      "2                            0.0                                  0.0   \n",
      "\n",
      "   anatom_site_general_posterior torso  anatom_site_general_upper extremity  \n",
      "0                                  1.0                                  0.0  \n",
      "1                                  0.0                                  0.0  \n",
      "2                                  1.0                                  0.0  \n",
      "\n",
      "[3 rows x 76 columns]\n"
     ]
    },
    {
     "name": "stderr",
     "output_type": "stream",
     "text": [
      "/tmp/ipykernel_18/3122119603.py:3: SettingWithCopyWarning: \n",
      "A value is trying to be set on a copy of a slice from a DataFrame.\n",
      "Try using .loc[row_indexer,col_indexer] = value instead\n",
      "\n",
      "See the caveats in the documentation: https://pandas.pydata.org/pandas-docs/stable/user_guide/indexing.html#returning-a-view-versus-a-copy\n",
      "  df[\"lesion_size_ratio\"] = df[\"tbp_lv_minorAxisMM\"] / df[\"clin_size_long_diam_mm\"]\n",
      "/tmp/ipykernel_18/3122119603.py:4: SettingWithCopyWarning: \n",
      "A value is trying to be set on a copy of a slice from a DataFrame.\n",
      "Try using .loc[row_indexer,col_indexer] = value instead\n",
      "\n",
      "See the caveats in the documentation: https://pandas.pydata.org/pandas-docs/stable/user_guide/indexing.html#returning-a-view-versus-a-copy\n",
      "  df[\"lesion_shape_index\"] = df[\"tbp_lv_areaMM2\"] / (df[\"tbp_lv_perimeterMM\"] ** 2)\n",
      "/tmp/ipykernel_18/3122119603.py:5: SettingWithCopyWarning: \n",
      "A value is trying to be set on a copy of a slice from a DataFrame.\n",
      "Try using .loc[row_indexer,col_indexer] = value instead\n",
      "\n",
      "See the caveats in the documentation: https://pandas.pydata.org/pandas-docs/stable/user_guide/indexing.html#returning-a-view-versus-a-copy\n",
      "  df[\"hue_contrast\"] = (df[\"tbp_lv_H\"] - df[\"tbp_lv_Hext\"]).abs()\n",
      "/tmp/ipykernel_18/3122119603.py:6: SettingWithCopyWarning: \n",
      "A value is trying to be set on a copy of a slice from a DataFrame.\n",
      "Try using .loc[row_indexer,col_indexer] = value instead\n",
      "\n",
      "See the caveats in the documentation: https://pandas.pydata.org/pandas-docs/stable/user_guide/indexing.html#returning-a-view-versus-a-copy\n",
      "  df[\"luminance_contrast\"] = (df[\"tbp_lv_L\"] - df[\"tbp_lv_Lext\"]).abs()\n",
      "/tmp/ipykernel_18/3122119603.py:7: SettingWithCopyWarning: \n",
      "A value is trying to be set on a copy of a slice from a DataFrame.\n",
      "Try using .loc[row_indexer,col_indexer] = value instead\n",
      "\n",
      "See the caveats in the documentation: https://pandas.pydata.org/pandas-docs/stable/user_guide/indexing.html#returning-a-view-versus-a-copy\n",
      "  df[\"lesion_color_difference\"] = np.sqrt(df[\"tbp_lv_deltaA\"] ** 2 + df[\"tbp_lv_deltaB\"] ** 2 + df[\"tbp_lv_deltaL\"] ** 2)\n",
      "/tmp/ipykernel_18/3122119603.py:8: SettingWithCopyWarning: \n",
      "A value is trying to be set on a copy of a slice from a DataFrame.\n",
      "Try using .loc[row_indexer,col_indexer] = value instead\n",
      "\n",
      "See the caveats in the documentation: https://pandas.pydata.org/pandas-docs/stable/user_guide/indexing.html#returning-a-view-versus-a-copy\n",
      "  df[\"border_complexity\"] = df[\"tbp_lv_norm_border\"] + df[\"tbp_lv_symm_2axis\"]\n",
      "/tmp/ipykernel_18/3122119603.py:9: SettingWithCopyWarning: \n",
      "A value is trying to be set on a copy of a slice from a DataFrame.\n",
      "Try using .loc[row_indexer,col_indexer] = value instead\n",
      "\n",
      "See the caveats in the documentation: https://pandas.pydata.org/pandas-docs/stable/user_guide/indexing.html#returning-a-view-versus-a-copy\n",
      "  df[\"color_uniformity\"] = df[\"tbp_lv_color_std_mean\"] / df[\"tbp_lv_radial_color_std_max\"]\n",
      "/tmp/ipykernel_18/3122119603.py:10: SettingWithCopyWarning: \n",
      "A value is trying to be set on a copy of a slice from a DataFrame.\n",
      "Try using .loc[row_indexer,col_indexer] = value instead\n",
      "\n",
      "See the caveats in the documentation: https://pandas.pydata.org/pandas-docs/stable/user_guide/indexing.html#returning-a-view-versus-a-copy\n",
      "  df[\"3d_position_distance\"] = np.sqrt(df[\"tbp_lv_x\"] ** 2 + df[\"tbp_lv_y\"] ** 2 + df[\"tbp_lv_z\"] ** 2)\n",
      "/tmp/ipykernel_18/3122119603.py:11: SettingWithCopyWarning: \n",
      "A value is trying to be set on a copy of a slice from a DataFrame.\n",
      "Try using .loc[row_indexer,col_indexer] = value instead\n",
      "\n",
      "See the caveats in the documentation: https://pandas.pydata.org/pandas-docs/stable/user_guide/indexing.html#returning-a-view-versus-a-copy\n",
      "  df[\"perimeter_to_area_ratio\"] = df[\"tbp_lv_perimeterMM\"] / df[\"tbp_lv_areaMM2\"]\n",
      "/tmp/ipykernel_18/3122119603.py:12: SettingWithCopyWarning: \n",
      "A value is trying to be set on a copy of a slice from a DataFrame.\n",
      "Try using .loc[row_indexer,col_indexer] = value instead\n",
      "\n",
      "See the caveats in the documentation: https://pandas.pydata.org/pandas-docs/stable/user_guide/indexing.html#returning-a-view-versus-a-copy\n",
      "  df[\"lesion_visibility_score\"] = df[\"tbp_lv_deltaLBnorm\"] + df[\"tbp_lv_norm_color\"]\n"
     ]
    },
    {
     "data": {
      "text/plain": [
       "array([0.00132403, 0.00085546, 0.0026595 ])"
      ]
     },
     "execution_count": 23,
     "metadata": {},
     "output_type": "execute_result"
    }
   ],
   "source": [
    "df_test_final = preprocessor.transform(df_test)\n",
    "test_cols = list(df_test_final.columns)\n",
    "for c in [\"isic_id\", \"patient_id\", \"target\"]:\n",
    "    if c in test_cols:\n",
    "        test_cols.remove(c)\n",
    "print(df_test_final[test_cols])\n",
    "lgb_preds =np.mean([model.predict_proba(df_test_final[test_cols])[:, 1] for model in lgb_models],axis=0)\n",
    "lgb_preds "
   ]
  },
  {
   "cell_type": "markdown",
   "id": "93f4668d",
   "metadata": {
    "papermill": {
     "duration": 0.014439,
     "end_time": "2024-07-15T12:12:05.956370",
     "exception": false,
     "start_time": "2024-07-15T12:12:05.941931",
     "status": "completed"
    },
    "tags": []
   },
   "source": [
    "### Submission"
   ]
  },
  {
   "cell_type": "code",
   "execution_count": 24,
   "id": "ef8916d7",
   "metadata": {
    "execution": {
     "iopub.execute_input": "2024-07-15T12:12:05.989211Z",
     "iopub.status.busy": "2024-07-15T12:12:05.988818Z",
     "iopub.status.idle": "2024-07-15T12:12:05.994811Z",
     "shell.execute_reply": "2024-07-15T12:12:05.993170Z"
    },
    "papermill": {
     "duration": 0.025501,
     "end_time": "2024-07-15T12:12:05.997678",
     "exception": false,
     "start_time": "2024-07-15T12:12:05.972177",
     "status": "completed"
    },
    "tags": []
   },
   "outputs": [],
   "source": [
    "#df_sub = pd.read_csv(\"/kaggle/input/isic-2024-challenge/sample_submission.csv\")\n",
    "#df_sub[\"target\"] = lgb_preds\n",
    "#df_sub.to_csv(\"submission.csv\", index=False)\n",
    "#df_sub"
   ]
  }
 ],
 "metadata": {
  "kaggle": {
   "accelerator": "none",
   "dataSources": [
    {
     "databundleVersionId": 9094797,
     "sourceId": 63056,
     "sourceType": "competition"
    }
   ],
   "dockerImageVersionId": 30732,
   "isGpuEnabled": false,
   "isInternetEnabled": false,
   "language": "python",
   "sourceType": "notebook"
  },
  "kernelspec": {
   "display_name": "Python 3",
   "language": "python",
   "name": "python3"
  },
  "language_info": {
   "codemirror_mode": {
    "name": "ipython",
    "version": 3
   },
   "file_extension": ".py",
   "mimetype": "text/x-python",
   "name": "python",
   "nbconvert_exporter": "python",
   "pygments_lexer": "ipython3",
   "version": "3.10.13"
  },
  "papermill": {
   "default_parameters": {},
   "duration": 1025.284832,
   "end_time": "2024-07-15T12:12:06.941510",
   "environment_variables": {},
   "exception": null,
   "input_path": "__notebook__.ipynb",
   "output_path": "__notebook__.ipynb",
   "parameters": {},
   "start_time": "2024-07-15T11:55:01.656678",
   "version": "2.5.0"
  }
 },
 "nbformat": 4,
 "nbformat_minor": 5
}
